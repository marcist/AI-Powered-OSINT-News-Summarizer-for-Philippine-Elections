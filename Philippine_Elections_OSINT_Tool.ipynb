# === 📦 Install required packages ===
!pip uninstall -y googlesearch -q
!pip install googlesearch-python newspaper3k transformers ipywidgets tqdm --quiet

# === 📚 Import libraries ===
import requests
from bs4 import BeautifulSoup
from googlesearch import search
from newspaper import Article
from transformers import pipeline
import ipywidgets as widgets
from IPython.display import display, Markdown, HTML
import time
from tqdm import tqdm
from urllib.parse import urlparse
import warnings
from dateutil.parser import UnknownTimezoneWarning

# Suppress the timezone warning from newspaper3k
warnings.filterwarnings("ignore", category=UnknownTimezoneWarning)

# === 🧠 Load summarizer once (optimized) ===
summarizer = pipeline("summarization", model="facebook/bart-large-cnn")

# === ⚠️ Disclaimer ===
DISCLAIMER = """
<div style="border-left: 3px solid #ff0000; padding: 5px 10px; background: #fff3f3; margin-bottom: 10px;">
⚠️ <strong>Disclaimer:</strong> This tool provides <strong>automated summaries</strong> of publicly available articles.
Accuracy depends on source quality. Always verify original content.
Use for <strong>research only</strong>—not legal/defamatory purposes.
</div>
"""

# === 📰 Philippine News Sources ===
PH_NEWS_SOURCES = [
    "site:news.abs-cbn.com",
    "site:philstar.com",
    "site:rappler.com",
    "site:gmanetwork.com",
    "site:inquirer.net",
    "site:manilatimes.net"
]

# === 🔍 Google Search Helper ===
# === 📝 Summarizer with handling ===
def extract_and_summarize(url):
    """Extracts article text and generates a summary with error handling."""
    try:
        if not url.startswith(('http://', 'https://')):
            return "❌ Invalid URL"

        article = Article(url)

        try:
            article.download()
            article.parse()
        except Exception as e:
            return f"⚠️ Unable to download or parse article: {str(e)}"

        text = article.text.replace('\n', ' ').strip()[:2000]
        if not text:
            return "⚠️ No extractable text"

        word_count = len(text.split())

        # Safe length bounds
        max_len = max(30, min(130, word_count // 2))
        min_len = min(30, max_len - 5) if max_len > 35 else 10

        summary = summarizer(
            text,
            max_length=max_len,
            min_length=min_len,
            do_sample=False
        )[0]['summary_text']

        return summary

    except Exception as e:
        return f"⚠️ Processing failed: {str(e)}"


# === 🚀 OSINT Tool Main Function ===
def run_osint_tool(candidate):
    """Main function with progress tracking and disclaimer."""
    display(HTML(DISCLAIMER))  # Show disclaimer
    display(Markdown(f"## 🔍 Searching for: **{candidate}**"))

    links = get_news_links(candidate)
    if not links:
        display(Markdown("❌ No articles found. Try a different name or check spelling."))
        return

    # Process with progress bar
    from urllib.parse import urlparse  # (Safe to put here too)
    for link in tqdm(links, desc="Analyzing articles"):
        domain = urlparse(link).netloc.replace("www.", "")
        display(Markdown(f"### 🔗 [Source]({link}) ({domain})"))
        summary = extract_and_summarize(link)
        display(Markdown(f"**📝 Summary from {domain}:** {summary}\n---"))


# === 👥 Candidate Dropdown List ===
candidate_list = [
    "Abalos, Benjamin Jr. “Benhur” De Castro",
    "Adonis, Ronaldo Mangampo",
    "Amad, Wilson Caritero",
    "Andamo, Jocelyn Santos",
    "Aquino, Paolo Benigno “Bam” Aguirre",
    "Arambulo, Ronnel Gondraneos",
    "Arellano, Ernesto Rillera",
    "Ballon, Roberto Amido",
    "Binay, Mar-Len Abigail “Abby” Sombillo",
    "Bondoc, James Patrick “Jimmy” Romero",
    "Bong Revilla, Ramon Jr. Bautista",
    "Bosita, Bonifacio Laqui",
    "Brosas, Arlene Duran",
    "Cabonegro, Roy Jerusalem",
    "Capuyan, Allen Arat",
    "Casiño, Teodoro “Teddy” Acevedo",
    "Castro, Francisca “France” Lustina",
    "Cayetano, Pilar Juliana “Pia” Schramm",
    "De Alban, Angelo Castro",
    "D’Angelo, David Delano",
    "De Guzman, Leodegario “Leody” Quitain",
    "Dela Rosa, Ronald “Bato” Marapon",
    "Doringo, Eufemia “Mimi” Pet",
    "Escobal, Arnel Bondilles",
    "Espiritu, Renecio Jr. Santos",
    "Floranda, Modesto Toque",
    "Gamboa, Marc Louie Santos",
    "Go, Christopher Lawrence Tesoro",
    "Gonzales, Norberto Borja",
    "Hinlo, Jesus Jr. Villanueva",
    "Honasan, Gregorio “Gringo” Ballesteros",
    "Jose, Relly Jr. Nufable",
    "Lacson, Panfilo “Ping” Morena",
    "Lambino, Raul Loyola",
    "Lapid, Manuel “Lito” Mercado",
    "Lidasan, Amirah Ali",
    "Marcoleta, Rodante Dizon",
    "Marcos, Maria Imelda “Imee” Romualdez",
    "Marquez, Norman Cordero",
    "Martinez, Eric Morales",
    "Mata, Richard Tesoro",
    "Matula, Jose Sonny Gito",
    "Maza, Liza Largoza",
    "Mendoza, Heidi Lloce",
    "Montemayor, Jose Jr. Cabrera",
    "Olivar, Jose Jessei Dela Calsada",
    "Pacquiao, Emmanuel “Manny” Dapidran",
    "Pangilinan, Francis Pancratius “Kiko” Nepomuceno",
    "Querubin, Ariel Porfirio Oliva",
    "Quiboloy, Apollo Carreon",
    "Ramos, Danilo Hernandez",
    "Revillame, Wilfredo “Willie” Buendia",
    "Rodriguez, Victor “Vic” Dayrit",
    "Sahidulla, Nur-Ana Indanan",
    "Salvador, Phillip Reyes",
    "Singson, Luis “Chavit” Crisologo",
    "Sotto, Vicente III “Tito” Castelo",
    "Tapado, Michael Balais",
    "Tolentino, Francis Ng",
    "Tulfo, Bienvenido “Ben” Teshiba",
    "Tulfo, Erwin Teshiba",
    "Valbuena, Mario Jr. “Mar” Soliven",
    "Verceles, Leandro Buenconsejo",
    "Villar, Camille Aguilar"
]

candidate_dropdown = widgets.Dropdown(
    options=sorted(candidate_list),
    description='Candidate:',
    style={'description_width': '80px'},
    layout=widgets.Layout(width='80%')
)

search_button = widgets.Button(
    description="🔎 Search News",
    button_style='primary',
    layout=widgets.Layout(width='160px')
)

def on_button_clicked(b):
    if not candidate_dropdown.value:
        display(Markdown("❌ Please select a candidate."))
    else:
        run_osint_tool(candidate_dropdown.value)

search_button.on_click(on_button_clicked)

# === 💻 Display Interface ===
display(widgets.VBox([candidate_dropdown, search_button]))
