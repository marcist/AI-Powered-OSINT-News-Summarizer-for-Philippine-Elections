{
 "cells": [
  {
   "cell_type": "markdown",
   "id": "c3530381",
   "metadata": {},
   "source": [
    "# 🇵🇭 Philippine Elections OSINT Tool (Beta)\n",
    "This tool helps Filipino citizens gather open-source information about political candidates."
   ]
  },
  {
   "cell_type": "code",
   "execution_count": null,
   "id": "9b3da7bb",
   "metadata": {},
   "outputs": [],
   "source": [
    "!pip install requests beautifulsoup4 googlesearch-python newspaper3k transformers lxml_html_clean --quiet"
   ]
  },
  {
   "cell_type": "code",
   "execution_count": null,
   "id": "700dc949",
   "metadata": {},
   "outputs": [],
   "source": [
    "import requests\n",
    "from bs4 import BeautifulSoup\n",
    "from googlesearch import search\n",
    "from newspaper import Article\n",
    "from transformers import pipeline\n",
    "import ipywidgets as widgets\n",
    "from IPython.display import display, Markdown"
   ]
  },
  {
   "cell_type": "code",
   "execution_count": null,
   "id": "6d4fa713",
   "metadata": {},
   "outputs": [],
   "source": [
    "# Load summarizer\n",
    "summarizer = pipeline(\"summarization\", model=\"facebook/bart-large-cnn\")"
   ]
  },
  {
   "cell_type": "code",
   "execution_count": null,
   "id": "6f6c16f4",
   "metadata": {},
   "outputs": [],
   "source": [
    "def get_news_links(query, num=5):\n",
    "    links = list(search(f\"{query} site:news.abs-cbn.com OR site:philstar.com OR site:rappler.com\", num_results=num))\n",
    "    return links\n",
    "\n",
    "def extract_and_summarize(url):\n",
    "    try:\n",
    "        article = Article(url)\n",
    "        article.download()\n",
    "        article.parse()\n",
    "        text = article.text[:2000]\n",
    "        summary = summarizer(text, max_length=130, min_length=30, do_sample=False)[0]['summary_text']\n",
    "        return summary\n",
    "    except Exception as e:\n",
    "        return f\"⚠️ Failed to process article: {e}\"\n",
    "\n",
    "def run_osint_tool(candidate):\n",
    "    display(Markdown(f\"## 🔍 Searching for: **{candidate}**\"))\n",
    "    links = get_news_links(candidate)\n",
    "    if not links:\n",
    "        display(Markdown(\"❌ No articles found. Try a different name.\"))\n",
    "        return\n",
    "    for link in links:\n",
    "        display(Markdown(f\"### 🔗 [News Article]({link})\"))\n",
    "        summary = extract_and_summarize(link)\n",
    "        display(Markdown(f\"**📝 Summary:** {summary}\"))"
   ]
  },
  {
   "cell_type": "code",
   "execution_count": null,
   "id": "b2b8b3d4",
   "metadata": {},
   "outputs": [],
   "source": [
    "candidate_input = widgets.Text(\n",
    "    value='Juan Dela Cruz',\n",
    "    placeholder='Enter candidate name',\n",
    "    description='Candidate:',\n",
    "    disabled=False\n",
    ")\n",
    "\n",
    "search_button = widgets.Button(description=\"Search Info 🔎\")\n",
    "\n",
    "def on_button_clicked(b):\n",
    "    run_osint_tool(candidate_input.value)\n",
    "\n",
    "search_button.on_click(on_button_clicked)\n",
    "\n",
    "display(candidate_input, search_button)"
   ]
  }
 ],
 "metadata": {},
 "nbformat": 4,
 "nbformat_minor": 5
}
