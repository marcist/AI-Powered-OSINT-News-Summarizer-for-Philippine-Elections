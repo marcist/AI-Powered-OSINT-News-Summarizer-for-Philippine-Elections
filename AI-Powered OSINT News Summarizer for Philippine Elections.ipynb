{
 "cells": [
  {
   "cell_type": "code",
   "execution_count": null,
   "id": "2c76ca55",
   "metadata": {},
   "outputs": [],
   "source": [
    "!pip install requests beautifulsoup4 googlesearch-python newspaper3k transformers ipywidgets tqdm --quiet"
   ]
  },
  {
   "cell_type": "code",
   "execution_count": null,
   "id": "7e5d335f",
   "metadata": {},
   "outputs": [],
   "source": [
    "import warnings\n",
    "from dateutil.parser import UnknownTimezoneWarning\n",
    "warnings.filterwarnings(\"ignore\", category=UnknownTimezoneWarning)"
   ]
  },
  {
   "cell_type": "code",
   "execution_count": null,
   "id": "f02eac10",
   "metadata": {},
   "outputs": [],
   "source": [
    "import requests\n",
    "from bs4 import BeautifulSoup\n",
    "from googlesearch import search\n",
    "from newspaper import Article\n",
    "from transformers import pipeline\n",
    "import ipywidgets as widgets\n",
    "from IPython.display import display, Markdown, HTML\n",
    "import time\n",
    "from tqdm import tqdm"
   ]
  },
  {
   "cell_type": "code",
   "execution_count": null,
   "id": "75e23de1",
   "metadata": {},
   "outputs": [],
   "source": [
    "# Load summarizer\n",
    "summarizer = pipeline(\"summarization\", model=\"facebook/bart-large-cnn\")"
   ]
  },
  {
   "cell_type": "code",
   "execution_count": null,
   "id": "0f3a4afa",
   "metadata": {},
   "outputs": [],
   "source": [
    "# Disclaimer block\n",
    "DISCLAIMER = '''\n",
    "<div style=\"border-left: 3px solid #ff0000; padding: 5px 10px; background: #fff3f3; margin-bottom: 10px;\">\n",
    "⚠️ <strong>Disclaimer:</strong> This tool provides <strong>automated summaries</strong> of publicly available articles.\n",
    "Accuracy depends on source quality. Always verify original content.\n",
    "Use for <strong>research only</strong>—not legal/defamatory purposes.\n",
    "</div>\n",
    "'''"
   ]
  },
  {
   "cell_type": "code",
   "execution_count": null,
   "id": "128ebd26",
   "metadata": {},
   "outputs": [],
   "source": [
    "# Philippine news sources\n",
    "PH_NEWS_SOURCES = [\n",
    "    \"site:news.abs-cbn.com\",\n",
    "    \"site:philstar.com\",\n",
    "    \"site:rappler.com\",\n",
    "    \"site:gmanetwork.com\",\n",
    "    \"site:inquirer.net\",\n",
    "    \"site:manilatimes.net\"\n",
    "]"
   ]
  },
  {
   "cell_type": "code",
   "execution_count": null,
   "id": "18798c47",
   "metadata": {},
   "outputs": [],
   "source": [
    "# Google search\n",
    "def get_news_links(query, num=5):\n",
    "    try:\n",
    "        query = f\"{query} {' OR '.join(PH_NEWS_SOURCES)}\"\n",
    "        time.sleep(2)\n",
    "        links = list(search(query, num_results=num, sleep_interval=5))\n",
    "        return links\n",
    "    except Exception as e:\n",
    "        print(f\"⚠️ Search error: {e}\")\n",
    "        return []"
   ]
  },
  {
   "cell_type": "code",
   "execution_count": null,
   "id": "970712d6",
   "metadata": {},
   "outputs": [],
   "source": [
    "# Article extraction and summary\n",
    "def extract_and_summarize(url):\n",
    "    try:\n",
    "        if not url.startswith(('http://', 'https://')):\n",
    "            return \"❌ Invalid URL\"\n",
    "        article = Article(url)\n",
    "        article.download()\n",
    "        article.parse()\n",
    "        text = article.text.replace('\\n', ' ').strip()[:2000]\n",
    "        if not text:\n",
    "            return \"⚠️ No extractable text\"\n",
    "        word_count = len(text.split())\n",
    "        max_len = max(30, min(130, word_count // 2))\n",
    "        min_len = min(30, max_len - 5) if max_len > 35 else 10\n",
    "        summary = summarizer(text, max_length=max_len, min_length=min_len, do_sample=False)[0]['summary_text']\n",
    "        return summary\n",
    "    except Exception as e:\n",
    "        return f\"⚠️ Processing failed: {str(e)}\""
   ]
  },
  {
   "cell_type": "code",
   "execution_count": null,
   "id": "d3a2d1d5",
   "metadata": {},
   "outputs": [],
   "source": [
    "# Run OSINT tool\n",
    "def run_osint_tool(candidate):\n",
    "    display(HTML(DISCLAIMER))\n",
    "    display(Markdown(f\"## 🔍 Searching for: **{candidate}**\"))\n",
    "    links = get_news_links(candidate)\n",
    "    if not links:\n",
    "        display(Markdown(\"❌ No articles found. Try a different name or check spelling.\"))\n",
    "        return\n",
    "    for link in tqdm(links, desc=\"Analyzing articles\"):\n",
    "        source = link.split('/')[2].replace('www.', '')\n",
    "        display(Markdown(f\"### 🔗 Source ({source})\"))\n",
    "        summary = extract_and_summarize(link)\n",
    "        display(Markdown(f\"**📝 Summary from {source}:** {summary}\\n---\"))"
   ]
  },
  {
   "cell_type": "code",
   "execution_count": null,
   "id": "08f12297",
   "metadata": {},
   "outputs": [],
   "source": [
    "# Simplified UI with dropdown\n",
    "candidate_list = [\n",
    "    'Abalos, Benjamin Jr. “Benhur” De Castro',\n",
    "    'Villar, Camille Aguilar',\n",
    "    'Tulfo, Erwin Teshiba',\n",
    "    'Go, Christopher Lawrence Tesoro',\n",
    "    'Pacquiao, Emmanuel “Manny” Dapidran'\n",
    "]\n",
    "dropdown = widgets.Dropdown(options=candidate_list, description='Candidate:')\n",
    "search_button = widgets.Button(description='🔎 Search News', button_style='primary')\n",
    "def on_click(b):\n",
    "    if dropdown.value:\n",
    "        run_osint_tool(dropdown.value)\n",
    "search_button.on_click(on_click)\n",
    "display(widgets.VBox([dropdown, search_button]))"
   ]
  }
 ],
 "metadata": {},
 "nbformat": 4,
 "nbformat_minor": 5
}
